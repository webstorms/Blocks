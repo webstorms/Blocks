{
 "cells": [
  {
   "cell_type": "code",
   "execution_count": 53,
   "id": "bef22c5e",
   "metadata": {},
   "outputs": [],
   "source": [
    "import time\n",
    "\n",
    "import torch\n",
    "import torch.nn as nn\n",
    "from spikingjelly.activation_based import neuron, layer, surrogate\n",
    "from norse.torch.module.lif import LIFCell\n",
    "\n",
    "from src.snn.block.blocks import Blocks\n",
    "from src.snn.snn import SNN"
   ]
  },
  {
   "cell_type": "markdown",
   "id": "f8051e64",
   "metadata": {},
   "source": [
    "## Setting up the different implementations"
   ]
  },
  {
   "cell_type": "markdown",
   "id": "4ca0b48b",
   "metadata": {},
   "source": [
    "Network benchmarked: 200 input units -> 100 spiking units over 1000 simulation steps using a batch size of 128."
   ]
  },
  {
   "cell_type": "code",
   "execution_count": 93,
   "id": "38193107",
   "metadata": {},
   "outputs": [],
   "source": [
    "def time_jelly():\n",
    "    input_tensor = torch.rand(128, 200, 1000).cuda()\n",
    "    \n",
    "    jelly_layer = nn.Sequential(\n",
    "        layer.Linear(200, 100, bias=False),\n",
    "        neuron.LIFNode(tau=100.0, surrogate_function=surrogate.ATan())\n",
    "    ).cuda()\n",
    "    \n",
    "    start_time = time.time()\n",
    "    \n",
    "    for t in range(1000):\n",
    "        out = jelly_layer(input_tensor[:, :, t])\n",
    "        \n",
    "    end_time = time.time()\n",
    "    return end_time - start_time"
   ]
  },
  {
   "cell_type": "code",
   "execution_count": 94,
   "id": "976ed321",
   "metadata": {},
   "outputs": [],
   "source": [
    "def time_norse():\n",
    "    input_tensor = torch.rand(128, 200, 1000).cuda()\n",
    "    \n",
    "    norse_layer = nn.Sequential(\n",
    "        layer.Linear(200, 100, bias=False),\n",
    "        LIFCell()\n",
    "    ).cuda()\n",
    "    \n",
    "    start_time = time.time()\n",
    "    \n",
    "    for t in range(1000):\n",
    "        out = norse_layer(input_tensor[:, :, t])\n",
    "    \n",
    "    end_time = time.time()\n",
    "    \n",
    "    return end_time - start_time"
   ]
  },
  {
   "cell_type": "code",
   "execution_count": 95,
   "id": "932cb5f0",
   "metadata": {},
   "outputs": [],
   "source": [
    "def time_blocks():\n",
    "    input_tensor = torch.rand(128, 200, 1000).cuda()\n",
    "    \n",
    "    blocks_snn = Blocks(200, 100, 1, 1000, t_latency=50, recurrent=False, init_beta=0.99, init_p=0.99).cuda()\n",
    "    start_time = time.time()\n",
    "    out = blocks_snn(input_tensor)\n",
    "    end_time = time.time()\n",
    "    \n",
    "    return end_time - start_time\n",
    "    \n",
    "def time_standard():\n",
    "    input_tensor = torch.rand(128, 200, 1000).cuda()\n",
    "    \n",
    "    blocks_snn = SNN(200, 100, 1, 1000, t_latency=1, recurrent=False, init_beta=0.99, init_p=0.99).cuda()\n",
    "    start_time = time.time()\n",
    "    out = blocks_snn(input_tensor)\n",
    "    end_time = time.time()\n",
    "    \n",
    "    return end_time - start_time"
   ]
  },
  {
   "cell_type": "markdown",
   "id": "733c9e80",
   "metadata": {},
   "source": [
    "## Benchmarking the differnet implementations"
   ]
  },
  {
   "cell_type": "code",
   "execution_count": 97,
   "id": "0ecf6b39",
   "metadata": {},
   "outputs": [
    {
     "name": "stdout",
     "output_type": "stream",
     "text": [
      "Norse=0.3080105781555176\n",
      "Jelly=0.1869184970855713\n",
      "Standard=0.3317074775695801\n",
      "Blocks=0.016329288482666016\n"
     ]
    }
   ],
   "source": [
    "print(f\"Norse={time_norse()}\")\n",
    "print(f\"Jelly={time_jelly()}\")\n",
    "print(f\"Standard={time_standard()}\")\n",
    "print(f\"Blocks={time_blocks()}\")"
   ]
  }
 ],
 "metadata": {
  "kernelspec": {
   "display_name": "Python [conda env:blocks] *",
   "language": "python",
   "name": "conda-env-blocks-py"
  },
  "language_info": {
   "codemirror_mode": {
    "name": "ipython",
    "version": 3
   },
   "file_extension": ".py",
   "mimetype": "text/x-python",
   "name": "python",
   "nbconvert_exporter": "python",
   "pygments_lexer": "ipython3",
   "version": "3.8.16"
  }
 },
 "nbformat": 4,
 "nbformat_minor": 5
}
